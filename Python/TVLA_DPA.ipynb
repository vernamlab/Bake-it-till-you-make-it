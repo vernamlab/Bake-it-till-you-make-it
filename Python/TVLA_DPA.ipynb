{
 "cells": [
  {
   "cell_type": "markdown",
   "id": "da71f9b1",
   "metadata": {},
   "source": [
    "# Accessing the segmentation based traces to fixed and random traces\n",
    "\n",
    "This file provides the code for converting the traces captured using segmentation to fixed and random datasets. This conversion is required to calculate metrics such as TVLA and DPA. \n",
    "\n",
    "Steps:\n",
    "\n",
    "1. Importing library for scapegoat - fileformat\n",
    "2. Opening a dataset in experiments with/without segmentation (could be found looking at the metadata for that experiment)\n",
    "4. For TVLA, use both fixed and random traces for computation, use the specific command for it\n",
    "5. For DPA, use random traces and intermediate values (found in differnet experiment set: intermediate values)\n",
    "\n",
    "the next few code blocks will provide you with functions and one demo example for preparing dataset"
   ]
  },
  {
   "cell_type": "code",
   "execution_count": null,
   "id": "6881399d",
   "metadata": {},
   "outputs": [],
   "source": [
    "#library imports\n",
    "%run functions.ipynb\n",
    "from FileFormat import *\n",
    "from tqdm.notebook import trange\n",
    "import matplotlib.pyplot as plt\n",
    "from DPA import *"
   ]
  },
  {
   "cell_type": "markdown",
   "id": "1823949d",
   "metadata": {},
   "source": [
    "# File management\n",
    "\n",
    "This block shows how to traverse heirarchy from project(FileParent)-> experiments -> datasets. Basic function to open and list what is contained in each have been provided here. for more functions visit: https://vernamlab.org/SCApeGoat/fileformat.html"
   ]
  },
  {
   "cell_type": "code",
   "execution_count": null,
   "id": "ad7daaae",
   "metadata": {},
   "outputs": [],
   "source": [
    "#to import an experiment, we start with opening a fileparent. \n",
    "#this is the project name of the SCApegoat formatted project\n",
    "bitumi = FileParent(\"BITUMI_scape\",\"\\\\\",True)\n",
    "\n",
    "#to list experiments in the project\n",
    "# print(bitumi.experiments)\n",
    "# print(\"\\n\")\n",
    "#this is the experiment with non-segmented capture \n",
    "experiment_1 = bitumi.get_experiment(\"exp_hg_off_prng_off\")\n",
    "\n",
    "#this is experiment with segmented capture\n",
    "experiment_room_tc = bitumi.get_experiment(\"exp_hg_off_prng_on_thermal_chamber_room\")\n",
    "\n",
    "#this is experiment where all the intermediate values are store\n",
    "iv = bitumi.get_experiment('intermediate_values')\n",
    "\n",
    "#to check the datasets in any of the experiments, use \"experiment_name.dataset()\"\n",
    "# print(iv.dataset)"
   ]
  },
  {
   "cell_type": "markdown",
   "id": "1931f657",
   "metadata": {},
   "source": [
    "# TVLA \n",
    "\n",
    "Steps:\n",
    "\n",
    "1. Open experiments\n",
    "2. Use the ttest_experiment method with a specific number of parts that need to be calculated. This will give you the ttest for that many parts.\n",
    "3. Plot\n",
    "\n",
    "## Non-segmented experiments"
   ]
  },
  {
   "cell_type": "code",
   "execution_count": null,
   "id": "476f1428",
   "metadata": {
    "scrolled": true
   },
   "outputs": [],
   "source": [
    "#ttest on the traces with no segment (check metadata of the experiment)\n",
    "t_out = ttest_experiment(experiment_1, 2)\n",
    "\n",
    "#basic plot\n",
    "plt.plot(t_out)"
   ]
  },
  {
   "cell_type": "markdown",
   "id": "2c25ef37",
   "metadata": {},
   "source": [
    "## Segmented experiments"
   ]
  },
  {
   "cell_type": "code",
   "execution_count": null,
   "id": "b850a284",
   "metadata": {
    "scrolled": true
   },
   "outputs": [],
   "source": [
    "#ttest with segmentation\n",
    "t_out = ttest_experiment_seg(experiment_room_tc, 2)\n",
    "plt.plot(t_out)\n"
   ]
  },
  {
   "cell_type": "markdown",
   "id": "f5dc7262",
   "metadata": {},
   "source": [
    "# Differential Power Analysis\n",
    " \n",
    "Steps:\n",
    "\n",
    "1. open experiment for traces\n",
    "2. Extract random trace from the experiment. Use extract_random/extract_random_seg based on the experiment selected. Note: that this method is a simplified version for extraction of parts. Beware that the datasets in experiments don't have consistent sizing.\n",
    "3. Get intermediate values for the DPA from \"intermediate_values\" experiment\n",
    "4. Use calculate__dpa to calculate DPA 1st and 2nd order. Note: DPA is memory intensive process, so test with smaller trace set first before going to higher values\n",
    "5. Plot DPA \n",
    "\n",
    "\n",
    "## Non-segmented experiments"
   ]
  },
  {
   "cell_type": "code",
   "execution_count": null,
   "id": "2854866b",
   "metadata": {},
   "outputs": [],
   "source": [
    "#Function to extraact random traces from the experiment\n",
    "rt = extract_random(experiment_1,1) #(experiment_name, number of traces)\n",
    "iv_50k = iv.get_dataset('iv_correct').read_data(0,50000)   #extracting intermediate values fromm the experiment, correct and wrong guess based intermediate values can be extracted\n",
    "iv_50int = iv_50k.astype(int) #converting the intermediate values to integer\n",
    "\n",
    "#function to calculate DPA (trace, intermediate values)\n",
    "dpa_out = calculate_dpa(rt0[0:20000],iv_50int[0:20000]) \n",
    "plt.plot(dpa_out[0])"
   ]
  },
  {
   "cell_type": "markdown",
   "id": "fa45b798",
   "metadata": {},
   "source": [
    "## Segmented experiments"
   ]
  },
  {
   "cell_type": "code",
   "execution_count": null,
   "id": "71c42b11",
   "metadata": {},
   "outputs": [],
   "source": [
    "rt = extract_random_seg(experiment_room_tc,1)\n",
    "iv_50k = iv.get_dataset('iv_correct').read_data(0,50000)\n",
    "iv_50int = iv_50k.astype(int)\n",
    "\n",
    "\n",
    "dpa_out = calculate_dpa(rt0[0:20000],iv_50int[0:20000])\n",
    "plt.plot(dpa_out[0])"
   ]
  }
 ],
 "metadata": {
  "kernelspec": {
   "display_name": "Python 3 (ipykernel)",
   "language": "python",
   "name": "python3"
  },
  "language_info": {
   "codemirror_mode": {
    "name": "ipython",
    "version": 3
   },
   "file_extension": ".py",
   "mimetype": "text/x-python",
   "name": "python",
   "nbconvert_exporter": "python",
   "pygments_lexer": "ipython3",
   "version": "3.10.8"
  }
 },
 "nbformat": 4,
 "nbformat_minor": 5
}
